{
 "cells": [
  {
   "cell_type": "code",
   "execution_count": 8,
   "metadata": {},
   "outputs": [],
   "source": [
    "import requests"
   ]
  },
  {
   "cell_type": "code",
   "execution_count": 9,
   "metadata": {},
   "outputs": [],
   "source": [
    "body=\"\"\"\n",
    "{\"highlight\":{\"boundary_scanner_locale\":\"no-NO\",\"fragment_size\":200,\"number_of_fragments\":1,\"fields\":{\"title\":{},\"description\":{}}},\"aggs\":{\"format\":{\"terms\":{\"field\":\"format.keyword\",\"size\":30}},\"provenance\":{\"terms\":{\"field\":\"provenance.keyword\",\"size\":30}},\"master\":{\"terms\":{\"field\":\"master.keyword\",\"size\":30}},\"category\":{\"terms\":{\"field\":\"category.keyword\",\"size\":30}},\"purpose\":{\"terms\":{\"field\":\"purpose.keyword\",\"size\":30}},\"legalbasis\":{\"terms\":{\"field\":\"legalbasis.keyword\",\"size\":30}},\"pii\":{\"terms\":{\"field\":\"pii.keyword\",\"size\":30}},\"theme\":{\"terms\":{\"field\":\"theme.keyword\",\"size\":30}}},\"query\":{\"bool\":{\"must\":[{\"multi_match\":{\"query\":\"t\",\"fields\":[\"title\",\"description\"]}}]}},\"size\":30}\n",
    "\"\"\""
   ]
  },
  {
   "cell_type": "code",
   "execution_count": 10,
   "metadata": {},
   "outputs": [
    {
     "name": "stdout",
     "output_type": "stream",
     "text": [
      "<!DOCTYPE html>\n",
      "<html lang=\"en\">\n",
      "<head>\n",
      "<meta charset=\"utf-8\">\n",
      "<title>Error</title>\n",
      "</head>\n",
      "<body>\n",
      "<pre>Cannot POST /.netlify/functions/server/dcat</pre>\n",
      "</body>\n",
      "</html>\n",
      "\n"
     ]
    }
   ],
   "source": [
    "url = \"http://localhost:3000/.netlify/functions/server/dcat\"\n",
    "headers = { \"content-type\": \"application/json\"}\n",
    "\n",
    "x = requests.post(url, data=body, headers=headers)\n",
    "\n",
    "print(x.text)"
   ]
  },
  {
   "cell_type": "code",
   "execution_count": 12,
   "metadata": {},
   "outputs": [
    {
     "name": "stdout",
     "output_type": "stream",
     "text": [
      "<Response [200]> https://data-proxy.netlify.com/.netlify/functions/server/dcat/78dabb4c62d8a74e1d56fbed1a336e42 {'User-Agent': 'python-requests/2.21.0', 'Accept-Encoding': 'gzip, deflate', 'Accept': '*/*', 'Connection': 'keep-alive'} None\n"
     ]
    },
    {
     "data": {
      "text/plain": [
       "'Not Found'"
      ]
     },
     "execution_count": 12,
     "metadata": {},
     "output_type": "execute_result"
    }
   ],
   "source": [
    "url = \"https://data-proxy.netlify.com/.netlify/functions/server/dcat\"\n",
    "\n",
    "item_id = \"78dabb4c62d8a74e1d56fbed1a336e42\"\n",
    "\n",
    "r = requests.get(url + \"/\" + item_id)\n",
    "print(r, r.request.url, r.request.headers,r.request.body)\n",
    "r.json()"
   ]
  },
  {
   "cell_type": "code",
   "execution_count": null,
   "metadata": {},
   "outputs": [],
   "source": []
  }
 ],
 "metadata": {
  "kernelspec": {
   "display_name": "Python (py37)",
   "language": "python",
   "name": "py37"
  },
  "language_info": {
   "codemirror_mode": {
    "name": "ipython",
    "version": 3
   },
   "file_extension": ".py",
   "mimetype": "text/x-python",
   "name": "python",
   "nbconvert_exporter": "python",
   "pygments_lexer": "ipython3",
   "version": "3.7.4"
  },
  "varInspector": {
   "cols": {
    "lenName": 16,
    "lenType": 16,
    "lenVar": 40
   },
   "kernels_config": {
    "python": {
     "delete_cmd_postfix": "",
     "delete_cmd_prefix": "del ",
     "library": "var_list.py",
     "varRefreshCmd": "print(var_dic_list())"
    },
    "r": {
     "delete_cmd_postfix": ") ",
     "delete_cmd_prefix": "rm(",
     "library": "var_list.r",
     "varRefreshCmd": "cat(var_dic_list()) "
    }
   },
   "types_to_exclude": [
    "module",
    "function",
    "builtin_function_or_method",
    "instance",
    "_Feature"
   ],
   "window_display": false
  }
 },
 "nbformat": 4,
 "nbformat_minor": 2
}
